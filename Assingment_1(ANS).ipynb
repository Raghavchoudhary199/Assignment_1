{
 "cells": [
  {
   "cell_type": "code",
   "execution_count": 16,
   "id": "c54f5d76",
   "metadata": {},
   "outputs": [],
   "source": [
    "\"\"\"Q1. Create one variable containing following type of data:\n",
    "(i) string\n",
    "(ii) list\n",
    "(iii) float\n",
    "(iv) tuple\n",
    "\n",
    "Answer is: list \"\"\"\n",
    "\n",
    "list = [\"raghav\",[1,2,3,4],123.33,(9,8,7,6)]"
   ]
  },
  {
   "cell_type": "code",
   "execution_count": 12,
   "id": "ee7f42c5",
   "metadata": {},
   "outputs": [
    {
     "data": {
      "text/plain": [
       "str"
      ]
     },
     "execution_count": 12,
     "metadata": {},
     "output_type": "execute_result"
    }
   ],
   "source": [
    "type(list[0])"
   ]
  },
  {
   "cell_type": "code",
   "execution_count": 13,
   "id": "ceb5ccb0",
   "metadata": {},
   "outputs": [
    {
     "data": {
      "text/plain": [
       "list"
      ]
     },
     "execution_count": 13,
     "metadata": {},
     "output_type": "execute_result"
    }
   ],
   "source": [
    "type(list[1])"
   ]
  },
  {
   "cell_type": "code",
   "execution_count": 14,
   "id": "414cc2d1",
   "metadata": {},
   "outputs": [
    {
     "data": {
      "text/plain": [
       "float"
      ]
     },
     "execution_count": 14,
     "metadata": {},
     "output_type": "execute_result"
    }
   ],
   "source": [
    "type(list[2])"
   ]
  },
  {
   "cell_type": "code",
   "execution_count": 15,
   "id": "14e16277",
   "metadata": {},
   "outputs": [
    {
     "data": {
      "text/plain": [
       "tuple"
      ]
     },
     "execution_count": 15,
     "metadata": {},
     "output_type": "execute_result"
    }
   ],
   "source": [
    "type(list[3])"
   ]
  },
  {
   "cell_type": "code",
   "execution_count": 19,
   "id": "29186677",
   "metadata": {},
   "outputs": [],
   "source": [
    "\"\"\" Q2. Given are some following variables containing data:\n",
    "(i) var1 = ‘ ‘\n",
    "(ii) var2 = ‘[ DS , ML , Python]’\n",
    "(iii) var3 = [ ‘DS’ , ’ML’ , ‘Python’ ]\n",
    "(iv) var4 = 1.\n",
    "What will be the data type of the above given variable. \"\"\"\n",
    "\n",
    "\n",
    "var1 = ''\n",
    "var2 = '[ DS , ML , Python]'\n",
    "var3 = [ 'DS' , 'ML' , 'Python' ]\n",
    "var4 = 1"
   ]
  },
  {
   "cell_type": "code",
   "execution_count": 20,
   "id": "fe41efc0",
   "metadata": {},
   "outputs": [
    {
     "data": {
      "text/plain": [
       "str"
      ]
     },
     "execution_count": 20,
     "metadata": {},
     "output_type": "execute_result"
    }
   ],
   "source": [
    "type(var1)"
   ]
  },
  {
   "cell_type": "code",
   "execution_count": 21,
   "id": "e07ae7d9",
   "metadata": {},
   "outputs": [
    {
     "data": {
      "text/plain": [
       "str"
      ]
     },
     "execution_count": 21,
     "metadata": {},
     "output_type": "execute_result"
    }
   ],
   "source": [
    "type(var2)"
   ]
  },
  {
   "cell_type": "code",
   "execution_count": 22,
   "id": "87621e96",
   "metadata": {},
   "outputs": [
    {
     "data": {
      "text/plain": [
       "list"
      ]
     },
     "execution_count": 22,
     "metadata": {},
     "output_type": "execute_result"
    }
   ],
   "source": [
    "type(var3)"
   ]
  },
  {
   "cell_type": "code",
   "execution_count": 23,
   "id": "a95756c5",
   "metadata": {},
   "outputs": [
    {
     "data": {
      "text/plain": [
       "int"
      ]
     },
     "execution_count": 23,
     "metadata": {},
     "output_type": "execute_result"
    }
   ],
   "source": [
    "type(var4)"
   ]
  },
  {
   "cell_type": "code",
   "execution_count": 24,
   "id": "8319d0c9",
   "metadata": {},
   "outputs": [
    {
     "data": {
      "text/plain": [
       "' Q3. Explain the use of the following operators using an example:\\n(i) /\\n(ii) %\\n(iii) //\\n(iv) **  '"
      ]
     },
     "execution_count": 24,
     "metadata": {},
     "output_type": "execute_result"
    }
   ],
   "source": [
    "\"\"\" Q3. Explain the use of the following operators using an example:\n",
    "(i) /\n",
    "(ii) %\n",
    "(iii) //\n",
    "(iv) **  \"\"\""
   ]
  },
  {
   "cell_type": "code",
   "execution_count": 27,
   "id": "bc421a64",
   "metadata": {},
   "outputs": [
    {
     "data": {
      "text/plain": [
       "5.0"
      ]
     },
     "execution_count": 27,
     "metadata": {},
     "output_type": "execute_result"
    }
   ],
   "source": [
    "# use of / : it is a division operator in python .\n",
    "a = 10/2\n",
    "a"
   ]
  },
  {
   "cell_type": "code",
   "execution_count": 28,
   "id": "76be7de9",
   "metadata": {},
   "outputs": [
    {
     "data": {
      "text/plain": [
       "0"
      ]
     },
     "execution_count": 28,
     "metadata": {},
     "output_type": "execute_result"
    }
   ],
   "source": [
    "# use of % : it is a Moduluso perator that  returns the remainder when the first is divided by the second .\n",
    "a = 10%2\n",
    "a"
   ]
  },
  {
   "cell_type": "code",
   "execution_count": 29,
   "id": "bced0b7d",
   "metadata": {},
   "outputs": [
    {
     "data": {
      "text/plain": [
       "5"
      ]
     },
     "execution_count": 29,
     "metadata": {},
     "output_type": "execute_result"
    }
   ],
   "source": [
    "# use of // : it is a floor division operator that divider ,it gives least value of  whole number near by  answer.\n",
    "a = 10//2\n",
    "a"
   ]
  },
  {
   "cell_type": "code",
   "execution_count": 30,
   "id": "31ddb874",
   "metadata": {},
   "outputs": [
    {
     "data": {
      "text/plain": [
       "100"
      ]
     },
     "execution_count": 30,
     "metadata": {},
     "output_type": "execute_result"
    }
   ],
   "source": [
    "# use of ** : it is use for  Exponential term.\n",
    "a = 10**2\n",
    "a\n",
    "# from above 10 is base value and 2 is power value so that 10^2."
   ]
  },
  {
   "cell_type": "code",
   "execution_count": 2,
   "id": "5f70b12b",
   "metadata": {},
   "outputs": [],
   "source": [
    "\"\"\" Q4. Create a list of length 10 of your choice containing multiple types of data. Using for loop print the\n",
    "element and its data type. \"\"\"\n",
    "list = [1,2,3,22.7,3.14,\"raghav\",\"Chaudhary\",(1,2,3,4),[9,7,5,3],{'disc' : \"this is Dictionary\"}]"
   ]
  },
  {
   "cell_type": "code",
   "execution_count": 3,
   "id": "13fdc353",
   "metadata": {},
   "outputs": [
    {
     "data": {
      "text/plain": [
       "[1,\n",
       " 2,\n",
       " 3,\n",
       " 22.7,\n",
       " 3.14,\n",
       " 'raghav',\n",
       " 'Chaudhary',\n",
       " (1, 2, 3, 4),\n",
       " [9, 7, 5, 3],\n",
       " {'disc': 'this is Dictionary'}]"
      ]
     },
     "execution_count": 3,
     "metadata": {},
     "output_type": "execute_result"
    }
   ],
   "source": [
    "l1 = []\n",
    "l2 = []\n",
    "for i in list :\n",
    "    l1.append(i)\n",
    "    l2.append(type(i))\n",
    "l1"
   ]
  },
  {
   "cell_type": "code",
   "execution_count": 4,
   "id": "877ece15",
   "metadata": {},
   "outputs": [
    {
     "data": {
      "text/plain": [
       "[int, int, int, float, float, str, str, tuple, list, dict]"
      ]
     },
     "execution_count": 4,
     "metadata": {},
     "output_type": "execute_result"
    }
   ],
   "source": [
    "l2"
   ]
  },
  {
   "cell_type": "code",
   "execution_count": 9,
   "id": "71a75d20",
   "metadata": {},
   "outputs": [
    {
     "name": "stdout",
     "output_type": "stream",
     "text": [
      "Enter NumberA4\n",
      "Enter NumberB2\n",
      "number A is purely divisible by number B\n"
     ]
    }
   ],
   "source": [
    "\"\"\"Q5. Using a while loop, verify if the number A is purely divisible by number B and if so then how many\n",
    "times it can be divisible. \"\"\"\n",
    "\n",
    "\n",
    "numberA = int(input(\"Enter NumberA\"))\n",
    "numberB = int(input(\"Enter NumberB\"))\n",
    "if numberA % numberB ==0 :\n",
    "    print(\"number A is purely divisible by number B\")\n",
    "else :\n",
    "     print(\"number A is not divisible by number B\")"
   ]
  },
  {
   "cell_type": "code",
   "execution_count": 14,
   "id": "abbc964f",
   "metadata": {},
   "outputs": [
    {
     "name": "stdout",
     "output_type": "stream",
     "text": [
      " not divisible by 3\n",
      " not divisible by 3\n",
      " divisible by 3\n",
      " not divisible by 3\n",
      " not divisible by 3\n",
      " divisible by 3\n",
      " not divisible by 3\n",
      " not divisible by 3\n",
      " divisible by 3\n",
      " not divisible by 3\n",
      " not divisible by 3\n",
      " divisible by 3\n",
      " not divisible by 3\n",
      " not divisible by 3\n",
      " divisible by 3\n",
      " not divisible by 3\n",
      " not divisible by 3\n",
      " divisible by 3\n",
      " not divisible by 3\n",
      " not divisible by 3\n",
      " divisible by 3\n",
      " not divisible by 3\n",
      " not divisible by 3\n",
      " divisible by 3\n",
      " not divisible by 3\n"
     ]
    }
   ],
   "source": [
    "\"\"\"Q6.  Create a list containing 25 int type data. Using for loop and if-else condition print if the element is\n",
    "divisible by 3 or not.\"\"\"\n",
    "list =  [1,2,3,4,5,6,7,8,9,10,11,12,13,14,15,16,17,18,19,20,21,22,23,24,25]\n",
    "for i in list :\n",
    " if i%3 ==0 :\n",
    "    print(\" divisible by 3\")\n",
    " else :\n",
    "    print(\" not divisible by 3\")"
   ]
  },
  {
   "cell_type": "code",
   "execution_count": 16,
   "id": "49ff280a",
   "metadata": {},
   "outputs": [
    {
     "data": {
      "text/plain": [
       "[1, 2, 3, 4, 5]"
      ]
     },
     "execution_count": 16,
     "metadata": {},
     "output_type": "execute_result"
    }
   ],
   "source": [
    "\"\"\"Q7. What do you understand about mutable and immutable data types? Give examples for both showing\n",
    "this property.\"\"\"\n",
    "\n",
    "# mutable :it is a data type that can be change over the time . example : list,dictionary\n",
    "list = [1,2,3,4]\n",
    "list.append(5)\n",
    "list"
   ]
  },
  {
   "cell_type": "code",
   "execution_count": 17,
   "id": "547de8e0",
   "metadata": {},
   "outputs": [
    {
     "ename": "AttributeError",
     "evalue": "'tuple' object has no attribute 'append'",
     "output_type": "error",
     "traceback": [
      "\u001b[1;31m---------------------------------------------------------------------------\u001b[0m",
      "\u001b[1;31mAttributeError\u001b[0m                            Traceback (most recent call last)",
      "Cell \u001b[1;32mIn[17], line 3\u001b[0m\n\u001b[0;32m      1\u001b[0m \u001b[38;5;66;03m# immutable :it is a data type that can't be change over the time .example : tuple\u001b[39;00m\n\u001b[0;32m      2\u001b[0m \u001b[38;5;28mtuple\u001b[39m \u001b[38;5;241m=\u001b[39m (\u001b[38;5;241m1\u001b[39m,\u001b[38;5;241m2\u001b[39m,\u001b[38;5;241m3\u001b[39m,\u001b[38;5;241m4\u001b[39m)\n\u001b[1;32m----> 3\u001b[0m \u001b[38;5;28;43mtuple\u001b[39;49m\u001b[38;5;241;43m.\u001b[39;49m\u001b[43mappend\u001b[49m(\u001b[38;5;241m5\u001b[39m)\n\u001b[0;32m      4\u001b[0m \u001b[38;5;28mtuple\u001b[39m\n",
      "\u001b[1;31mAttributeError\u001b[0m: 'tuple' object has no attribute 'append'"
     ]
    }
   ],
   "source": [
    "# immutable :it is a data type that can't be change over the time .example : tuple\n",
    "tuple = (1,2,3,4)\n",
    "tuple.append(5)\n",
    "tuple"
   ]
  },
  {
   "cell_type": "code",
   "execution_count": null,
   "id": "d200aabf",
   "metadata": {},
   "outputs": [],
   "source": []
  }
 ],
 "metadata": {
  "kernelspec": {
   "display_name": "Python 3 (ipykernel)",
   "language": "python",
   "name": "python3"
  },
  "language_info": {
   "codemirror_mode": {
    "name": "ipython",
    "version": 3
   },
   "file_extension": ".py",
   "mimetype": "text/x-python",
   "name": "python",
   "nbconvert_exporter": "python",
   "pygments_lexer": "ipython3",
   "version": "3.11.3"
  }
 },
 "nbformat": 4,
 "nbformat_minor": 5
}
